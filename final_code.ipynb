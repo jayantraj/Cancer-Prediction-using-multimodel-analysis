{
 "cells": [
  {
   "cell_type": "code",
   "execution_count": 1,
   "metadata": {},
   "outputs": [],
   "source": [
    "import pandas as pd\n",
    "import seaborn as sns\n",
    "import matplotlib.pyplot as plt\n",
    "import numpy as np\n",
    "%matplotlib inline\n",
    "%config InlineBackend.figure_format='retina'\n",
    "sns.set(style=\"white\")\n",
    "df = pd.read_csv(\"data_cleaned.csv\")"
   ]
  },
  {
   "cell_type": "code",
   "execution_count": 2,
   "metadata": {},
   "outputs": [
    {
     "data": {
      "text/html": [
       "<div>\n",
       "<style scoped>\n",
       "    .dataframe tbody tr th:only-of-type {\n",
       "        vertical-align: middle;\n",
       "    }\n",
       "\n",
       "    .dataframe tbody tr th {\n",
       "        vertical-align: top;\n",
       "    }\n",
       "\n",
       "    .dataframe thead th {\n",
       "        text-align: right;\n",
       "    }\n",
       "</style>\n",
       "<table border=\"1\" class=\"dataframe\">\n",
       "  <thead>\n",
       "    <tr style=\"text-align: right;\">\n",
       "      <th></th>\n",
       "      <th>patient</th>\n",
       "      <th>id</th>\n",
       "      <th>age</th>\n",
       "      <th>eventdeath</th>\n",
       "      <th>survival</th>\n",
       "      <th>timerecurrence</th>\n",
       "      <th>chemo</th>\n",
       "      <th>hormonal</th>\n",
       "      <th>amputation</th>\n",
       "      <th>histtype</th>\n",
       "      <th>...</th>\n",
       "      <th>contig36312_rc</th>\n",
       "      <th>contig38980_rc</th>\n",
       "      <th>nm_000853</th>\n",
       "      <th>nm_000854</th>\n",
       "      <th>nm_000860</th>\n",
       "      <th>contig29014_rc</th>\n",
       "      <th>contig46616_rc</th>\n",
       "      <th>nm_000888</th>\n",
       "      <th>nm_000898</th>\n",
       "      <th>af067420</th>\n",
       "    </tr>\n",
       "  </thead>\n",
       "  <tbody>\n",
       "    <tr>\n",
       "      <th>0</th>\n",
       "      <td>s122</td>\n",
       "      <td>18</td>\n",
       "      <td>43</td>\n",
       "      <td>False</td>\n",
       "      <td>14.817248</td>\n",
       "      <td>14.817248</td>\n",
       "      <td>False</td>\n",
       "      <td>False</td>\n",
       "      <td>True</td>\n",
       "      <td>1</td>\n",
       "      <td>...</td>\n",
       "      <td>0.591103</td>\n",
       "      <td>-0.355018</td>\n",
       "      <td>0.373644</td>\n",
       "      <td>-0.760690</td>\n",
       "      <td>-0.164025</td>\n",
       "      <td>-0.038726</td>\n",
       "      <td>0.237856</td>\n",
       "      <td>-0.087631</td>\n",
       "      <td>-0.369153</td>\n",
       "      <td>0.153795</td>\n",
       "    </tr>\n",
       "    <tr>\n",
       "      <th>1</th>\n",
       "      <td>s123</td>\n",
       "      <td>19</td>\n",
       "      <td>48</td>\n",
       "      <td>False</td>\n",
       "      <td>14.261465</td>\n",
       "      <td>14.261465</td>\n",
       "      <td>False</td>\n",
       "      <td>False</td>\n",
       "      <td>False</td>\n",
       "      <td>1</td>\n",
       "      <td>...</td>\n",
       "      <td>-0.199829</td>\n",
       "      <td>-0.001635</td>\n",
       "      <td>-0.062922</td>\n",
       "      <td>-0.682204</td>\n",
       "      <td>-0.220934</td>\n",
       "      <td>-0.100088</td>\n",
       "      <td>-0.466537</td>\n",
       "      <td>-0.231547</td>\n",
       "      <td>-0.643019</td>\n",
       "      <td>-0.014098</td>\n",
       "    </tr>\n",
       "    <tr>\n",
       "      <th>2</th>\n",
       "      <td>s124</td>\n",
       "      <td>20</td>\n",
       "      <td>38</td>\n",
       "      <td>False</td>\n",
       "      <td>6.644764</td>\n",
       "      <td>6.644764</td>\n",
       "      <td>False</td>\n",
       "      <td>False</td>\n",
       "      <td>False</td>\n",
       "      <td>1</td>\n",
       "      <td>...</td>\n",
       "      <td>0.328736</td>\n",
       "      <td>-0.047571</td>\n",
       "      <td>0.084228</td>\n",
       "      <td>-0.695950</td>\n",
       "      <td>-0.402840</td>\n",
       "      <td>-0.099965</td>\n",
       "      <td>0.110155</td>\n",
       "      <td>-0.114298</td>\n",
       "      <td>0.258495</td>\n",
       "      <td>-0.198911</td>\n",
       "    </tr>\n",
       "    <tr>\n",
       "      <th>3</th>\n",
       "      <td>s125</td>\n",
       "      <td>21</td>\n",
       "      <td>50</td>\n",
       "      <td>False</td>\n",
       "      <td>7.748118</td>\n",
       "      <td>7.748118</td>\n",
       "      <td>False</td>\n",
       "      <td>True</td>\n",
       "      <td>False</td>\n",
       "      <td>1</td>\n",
       "      <td>...</td>\n",
       "      <td>0.648861</td>\n",
       "      <td>-0.039088</td>\n",
       "      <td>0.182182</td>\n",
       "      <td>-0.524640</td>\n",
       "      <td>0.037320</td>\n",
       "      <td>-0.167688</td>\n",
       "      <td>-0.016790</td>\n",
       "      <td>-0.285344</td>\n",
       "      <td>-0.251188</td>\n",
       "      <td>0.862710</td>\n",
       "    </tr>\n",
       "    <tr>\n",
       "      <th>4</th>\n",
       "      <td>s126</td>\n",
       "      <td>22</td>\n",
       "      <td>38</td>\n",
       "      <td>False</td>\n",
       "      <td>6.436687</td>\n",
       "      <td>6.318960</td>\n",
       "      <td>False</td>\n",
       "      <td>False</td>\n",
       "      <td>True</td>\n",
       "      <td>1</td>\n",
       "      <td>...</td>\n",
       "      <td>-0.287538</td>\n",
       "      <td>-0.286893</td>\n",
       "      <td>0.057082</td>\n",
       "      <td>-0.565021</td>\n",
       "      <td>-0.105632</td>\n",
       "      <td>-0.108148</td>\n",
       "      <td>-0.405853</td>\n",
       "      <td>-0.053601</td>\n",
       "      <td>-0.677072</td>\n",
       "      <td>0.134160</td>\n",
       "    </tr>\n",
       "  </tbody>\n",
       "</table>\n",
       "<p>5 rows × 1570 columns</p>\n",
       "</div>"
      ],
      "text/plain": [
       "  patient  id  age  eventdeath   survival  timerecurrence  chemo  hormonal  \\\n",
       "0    s122  18   43       False  14.817248       14.817248  False     False   \n",
       "1    s123  19   48       False  14.261465       14.261465  False     False   \n",
       "2    s124  20   38       False   6.644764        6.644764  False     False   \n",
       "3    s125  21   50       False   7.748118        7.748118  False      True   \n",
       "4    s126  22   38       False   6.436687        6.318960  False     False   \n",
       "\n",
       "   amputation  histtype  ...  contig36312_rc  contig38980_rc  nm_000853  \\\n",
       "0        True         1  ...        0.591103       -0.355018   0.373644   \n",
       "1       False         1  ...       -0.199829       -0.001635  -0.062922   \n",
       "2       False         1  ...        0.328736       -0.047571   0.084228   \n",
       "3       False         1  ...        0.648861       -0.039088   0.182182   \n",
       "4        True         1  ...       -0.287538       -0.286893   0.057082   \n",
       "\n",
       "   nm_000854  nm_000860  contig29014_rc  contig46616_rc  nm_000888  nm_000898  \\\n",
       "0  -0.760690  -0.164025       -0.038726        0.237856  -0.087631  -0.369153   \n",
       "1  -0.682204  -0.220934       -0.100088       -0.466537  -0.231547  -0.643019   \n",
       "2  -0.695950  -0.402840       -0.099965        0.110155  -0.114298   0.258495   \n",
       "3  -0.524640   0.037320       -0.167688       -0.016790  -0.285344  -0.251188   \n",
       "4  -0.565021  -0.105632       -0.108148       -0.405853  -0.053601  -0.677072   \n",
       "\n",
       "   af067420  \n",
       "0  0.153795  \n",
       "1 -0.014098  \n",
       "2 -0.198911  \n",
       "3  0.862710  \n",
       "4  0.134160  \n",
       "\n",
       "[5 rows x 1570 columns]"
      ]
     },
     "execution_count": 2,
     "metadata": {},
     "output_type": "execute_result"
    }
   ],
   "source": [
    "df.head()"
   ]
  },
  {
   "cell_type": "code",
   "execution_count": 3,
   "metadata": {},
   "outputs": [],
   "source": [
    "df.eventdeath = df.eventdeath.apply(lambda x: 1 if x == True else 0)"
   ]
  },
  {
   "cell_type": "code",
   "execution_count": 4,
   "metadata": {},
   "outputs": [
    {
     "name": "stdout",
     "output_type": "stream",
     "text": [
      "Mean age: 44.048\n",
      "Mean tumour grade: 2.129\n",
      "Mean tumour diameter: 22.529\n"
     ]
    }
   ],
   "source": [
    "print(\"Mean age: \" + \"%.3f\" %np.mean(df[\"age\"]))\n",
    "print(\"Mean tumour grade: \" + \"%.3f\" %np.mean(df[\"grade\"]))\n",
    "print(\"Mean tumour diameter: \" + \"%.3f\" %np.mean(df[\"diam\"]))"
   ]
  },
  {
   "cell_type": "code",
   "execution_count": 5,
   "metadata": {},
   "outputs": [],
   "source": [
    "subset = df.loc[:,:\"barcode\"]"
   ]
  },
  {
   "cell_type": "code",
   "execution_count": 6,
   "metadata": {},
   "outputs": [
    {
     "data": {
      "image/png": "[encoded data removed]",
      "text/plain": [
       "<Figure size 576x216 with 3 Axes>"
      ]
     },
     "metadata": {
      "image/png": {
       "height": 206,
       "width": 562
      }
     },
     "output_type": "display_data"
    }
   ],
   "source": [
    "fig, (ax1, ax2, ax3) = plt.subplots(ncols=3, nrows=1, figsize=(8,3), sharey=True)\n",
    "\n",
    "pal = [sns.color_palette()[0], sns.color_palette()[1]]\n",
    "\n",
    "sns.boxplot(x=\"age\", y=\"eventdeath\", orient=\"h\", data=subset, ax=ax1, palette=pal)\n",
    "sns.boxplot(x=\"diam\", y=\"eventdeath\", orient=\"h\", data=subset, ax=ax2, palette=pal)\n",
    "sns.boxplot(x=\"posnodes\", y=\"eventdeath\", orient=\"h\", data=subset, ax=ax3, palette=pal)\n",
    "\n",
    "ax1.set_title(\"Age\", size=13)\n",
    "ax1.invert_yaxis()\n",
    "ax1.set_ylabel(\"eventdeath\", size=11)\n",
    "ax1.set_xlabel(\"Age\")\n",
    "ax2.set_title(\"Tumour diameter\", size=13)\n",
    "ax2.set_ylabel(\"\")\n",
    "ax2.set_xlabel(\"Diameter (mm)\")\n",
    "ax3.set_title(\"Positive lymph nodes\", size=13)\n",
    "ax3.set_ylabel(\"\")\n",
    "ax3.set_xlabel(\"Number of positive nodes\")\n",
    "\n",
    "plt.tight_layout()\n",
    "plt.savefig(\"visuals/EDA_clinical_features.jpeg\")\n",
    "plt.show()"
   ]
  },
  {
   "cell_type": "code",
   "execution_count": 7,
   "metadata": {},
   "outputs": [
    {
     "data": {
      "text/html": [
       "<div>\n",
       "<style scoped>\n",
       "    .dataframe tbody tr th:only-of-type {\n",
       "        vertical-align: middle;\n",
       "    }\n",
       "\n",
       "    .dataframe tbody tr th {\n",
       "        vertical-align: top;\n",
       "    }\n",
       "\n",
       "    .dataframe thead th {\n",
       "        text-align: right;\n",
       "    }\n",
       "</style>\n",
       "<table border=\"1\" class=\"dataframe\">\n",
       "  <thead>\n",
       "    <tr style=\"text-align: right;\">\n",
       "      <th></th>\n",
       "      <th>Variable</th>\n",
       "      <th>Correlation coefficient</th>\n",
       "      <th>P value</th>\n",
       "    </tr>\n",
       "  </thead>\n",
       "  <tbody>\n",
       "    <tr>\n",
       "      <th>0</th>\n",
       "      <td>age</td>\n",
       "      <td>-0.147643</td>\n",
       "      <td>0.0148035</td>\n",
       "    </tr>\n",
       "    <tr>\n",
       "      <th>1</th>\n",
       "      <td>diam</td>\n",
       "      <td>0.215344</td>\n",
       "      <td>0.000347234</td>\n",
       "    </tr>\n",
       "    <tr>\n",
       "      <th>2</th>\n",
       "      <td>posnodes</td>\n",
       "      <td>0.0917786</td>\n",
       "      <td>0.131077</td>\n",
       "    </tr>\n",
       "  </tbody>\n",
       "</table>\n",
       "</div>"
      ],
      "text/plain": [
       "   Variable Correlation coefficient      P value\n",
       "0       age               -0.147643    0.0148035\n",
       "1      diam                0.215344  0.000347234\n",
       "2  posnodes               0.0917786     0.131077"
      ]
     },
     "execution_count": 7,
     "metadata": {},
     "output_type": "execute_result"
    }
   ],
   "source": [
    "from scipy.stats import pearsonr\n",
    "\n",
    "clinical_corrs=pd.DataFrame(columns=[\"Variable\", \"Correlation coefficient\", \"P value\"])\n",
    "i=0\n",
    "for var in [\"age\", \"diam\", \"posnodes\"]:\n",
    "    corr, p = pearsonr(subset[var], subset[\"eventdeath\"])\n",
    "    clinical_corrs.loc[i, \"Variable\"] = var\n",
    "    clinical_corrs.loc[i, \"Correlation coefficient\"] = corr\n",
    "    clinical_corrs.loc[i, \"P value\"] = p\n",
    "    i+=1\n",
    "\n",
    "clinical_corrs"
   ]
  },
  {
   "cell_type": "code",
   "execution_count": 9,
   "metadata": {},
   "outputs": [
    {
     "data": {
      "image/png": "[encoded data removed]",
      "text/plain": [
       "<Figure size 432x360 with 1 Axes>"
      ]
     },
     "metadata": {
      "image/png": {
       "height": 349,
       "width": 425
      }
     },
     "output_type": "display_data"
    }
   ],
   "source": [
    "clinical_var = [\"age\", \"diam\", \"posnodes\", \"survival\", \"timerecurrence\", \"grade\", \"angioinv\", \"lymphinfil\", \"chemo\", \"hormonal\", \"amputation\"]\n",
    "subset2 = df.loc[:,clinical_var]\n",
    "dummied = pd.get_dummies(subset2, columns=[\"grade\", \"angioinv\", \"lymphinfil\"])\n",
    "\n",
    "#create a dataframe of correlations\n",
    "dummied_corrs=pd.DataFrame(columns=[\"Variable\", \"Correlation coefficient\", \"P value\"])\n",
    "i=0\n",
    "for var in dummied.loc[:,\"chemo\":].columns:\n",
    "    corr, p = pearsonr(dummied[var], subset[\"eventdeath\"])\n",
    "    dummied_corrs.loc[i, \"Variable\"] = var\n",
    "    dummied_corrs.loc[i, \"Correlation coefficient\"] = corr\n",
    "    dummied_corrs.loc[i, \"P value\"] = p\n",
    "    i+=1\n",
    "\n",
    "#visualise\n",
    "fig, ax = plt.subplots(figsize=(6,5))\n",
    "dummied_corrs = dummied_corrs.sort_values(\"Correlation coefficient\", ascending=True)\n",
    "labels = dummied_corrs[\"Variable\"]\n",
    "y_pos = np.arange(len(labels))\n",
    "ax.barh(y_pos, dummied_corrs[\"Correlation coefficient\"])\n",
    "ax.set_yticks(y_pos)\n",
    "ax.set_yticklabels(labels)\n",
    "ax.set_xlabel(\"Correlation coefficient\")\n",
    "ax.set_title(\"Correlation between dummy variables and eventdeath\", size=15)\n",
    "plt.tight_layout()\n",
    "plt.savefig(\"visuals/EDA_dummy_clinical.jpeg\")\n",
    "plt.show()"
   ]
  },
  {
   "cell_type": "code",
   "execution_count": 10,
   "metadata": {},
   "outputs": [
    {
     "name": "stdout",
     "output_type": "stream",
     "text": [
      "Number of patients who had no treatment: 87\n",
      "Proportion of death in this group: 0.241\n",
      "Baseline comparison:\n",
      "0    0.716912\n",
      "1    0.283088\n",
      "Name: eventdeath, dtype: float64\n"
     ]
    }
   ],
   "source": [
    "no_treatment = subset[(subset[\"chemo\"]==False) & (subset[\"amputation\"]==False) & (subset[\"hormonal\"]==False)]\n",
    "print(\"Number of patients who had no treatment: \" + str(np.shape(no_treatment)[0]))\n",
    "print(\"Proportion of death in this group: \" + (\"%.3f\" %np.mean(no_treatment[\"eventdeath\"])))\n",
    "print(\"Baseline comparison:\")\n",
    "print(df[\"eventdeath\"].value_counts()/df[\"eventdeath\"].count())"
   ]
  },
  {
   "cell_type": "code",
   "execution_count": 11,
   "metadata": {},
   "outputs": [
    {
     "name": "stdout",
     "output_type": "stream",
     "text": [
      "0    0.716912\n",
      "1    0.283088\n",
      "Name: eventdeath, dtype: float64\n"
     ]
    }
   ],
   "source": [
    "from sklearn.preprocessing import StandardScaler\n",
    "from sklearn.model_selection import train_test_split, cross_val_score, cross_val_predict\n",
    "from sklearn.model_selection import GridSearchCV\n",
    "from sklearn.metrics import accuracy_score, f1_score\n",
    "from sklearn.linear_model import LogisticRegression\n",
    "from sklearn.tree import DecisionTreeClassifier\n",
    "from sklearn.metrics import roc_curve, auc\n",
    "import pickle\n",
    "\n",
    "#assign X and y\n",
    "y = subset[\"eventdeath\"]\n",
    "X = dummied.copy() #use dataframe of dummied predictive clinical features \n",
    "X = StandardScaler().fit_transform(X)\n",
    "\n",
    "#and an X without time related features as these have no predictive power for new patients\n",
    "X_predictive = dummied.copy()\n",
    "del X_predictive[\"survival\"]\n",
    "del X_predictive[\"timerecurrence\"]\n",
    "predictive_df = X_predictive.copy()\n",
    "X_predictive = StandardScaler().fit_transform(X_predictive)\n",
    "\n",
    "#baseline accuracy is 72%\n",
    "print(subset[\"eventdeath\"].value_counts()/subset[\"eventdeath\"].count())"
   ]
  },
  {
   "cell_type": "markdown",
   "metadata": {},
   "source": [
    "# SVM"
   ]
  },
  {
   "cell_type": "code",
   "execution_count": 12,
   "metadata": {},
   "outputs": [
    {
     "name": "stdout",
     "output_type": "stream",
     "text": [
      "baseline accuracy: 0.717\n",
      "SVM accuracy: 0.8823529411764706\n",
      "SVM accuracy using only predictive features: 0.7426470588235294\n",
      "best params using predictive features: {'C': 1.2742749857031335, 'degree': 3, 'gamma': 0.02069138081114788, 'kernel': 'rbf'}\n"
     ]
    }
   ],
   "source": [
    "from sklearn import svm\n",
    "\n",
    "params = {\n",
    "    \"C\": np.logspace(-2,2,20),\n",
    "    \"kernel\": [\"linear\", \"poly\", \"rbf\"],\n",
    "    \"gamma\": np.logspace(-5,2,20),\n",
    "    \"degree\": [3]\n",
    "}\n",
    "#all features\n",
    "clf = svm.SVC(probability=True)\n",
    "gridsearch = GridSearchCV(clf, params, n_jobs=-1, cv=4)\n",
    "gridsearch.fit(X, y)\n",
    "\n",
    "#predictive features\n",
    "clf = svm.SVC(probability=True)\n",
    "pred_gridsearch = GridSearchCV(clf, params, n_jobs=-1, cv=4)\n",
    "pred_gridsearch.fit(X_predictive, y)\n",
    "pickle.dump(pred_gridsearch.best_estimator_, open(\"clinical_models/SVM.pkl\", 'wb'))\n",
    "\n",
    "print(\"baseline accuracy: \" + str(0.717))\n",
    "print(\"SVM accuracy: \" + str(gridsearch.best_score_))\n",
    "print(\"SVM accuracy using only predictive features: \" + str(pred_gridsearch.best_score_))\n",
    "print(\"best params using predictive features: \" + str(pred_gridsearch.best_params_))"
   ]
  },
  {
   "cell_type": "markdown",
   "metadata": {},
   "source": [
    "# KNN"
   ]
  },
  {
   "cell_type": "code",
   "execution_count": 14,
   "metadata": {},
   "outputs": [
    {
     "name": "stdout",
     "output_type": "stream",
     "text": [
      "baseline accuracy: 0.717\n",
      "KNN accuracy: 0.8272058823529411\n",
      "KNN accuracy using only predictive features: 0.724264705882353\n",
      "best params using predictive features: {'n_neighbors': 25, 'weights': 'uniform'}\n"
     ]
    }
   ],
   "source": [
    "from sklearn.neighbors import KNeighborsClassifier\n",
    "\n",
    "params = {\n",
    "    \"n_neighbors\" : [1,5,10,15,20,25,30,35,40],\n",
    "    \"weights\" : [\"uniform\" , \"distance\"]\n",
    "}\n",
    "#all features\n",
    "knn = KNeighborsClassifier()\n",
    "gridsearch = GridSearchCV(knn, params, n_jobs=-1, cv=4)\n",
    "gridsearch.fit(X, y)\n",
    "\n",
    "#predictive features\n",
    "knn = KNeighborsClassifier()\n",
    "pred_gridsearch = GridSearchCV(knn, params, n_jobs=-1, cv=4)\n",
    "pred_gridsearch.fit(X_predictive, y)\n",
    "pickle.dump(pred_gridsearch.best_estimator_, open(\"clinical_models/KNN.pkl\", 'wb'))\n",
    "\n",
    "print(\"baseline accuracy: \" + str(0.717))\n",
    "print(\"KNN accuracy: \" + str(gridsearch.best_score_))\n",
    "print(\"KNN accuracy using only predictive features: \" + str(pred_gridsearch.best_score_))\n",
    "print(\"best params using predictive features: \" + str(pred_gridsearch.best_params_))"
   ]
  },
  {
   "cell_type": "markdown",
   "metadata": {},
   "source": [
    "# Gene Expression\n"
   ]
  },
  {
   "cell_type": "code",
   "execution_count": 15,
   "metadata": {},
   "outputs": [],
   "source": [
    "genes = df.loc[:,\"esr1\":]"
   ]
  },
  {
   "cell_type": "code",
   "execution_count": 16,
   "metadata": {},
   "outputs": [],
   "source": [
    "y = subset[\"eventdeath\"]\n",
    "X = genes.copy() #use dataframe of genes subset \n",
    "X = StandardScaler().fit_transform(X)"
   ]
  },
  {
   "cell_type": "markdown",
   "metadata": {},
   "source": [
    "# SVM"
   ]
  },
  {
   "cell_type": "code",
   "execution_count": 17,
   "metadata": {},
   "outputs": [],
   "source": [
    "from itertools import combinations\n",
    "\n",
    "#generate 7 boundaries to test and dataframes for each\n",
    "boundaries = [0.2, 0.225, 0.25, 0.275, 0.3, 0.325, 0.35]\n",
    "thresh_1=genes.copy()\n",
    "thresh_2=genes.copy()\n",
    "thresh_3=genes.copy()\n",
    "thresh_4=genes.copy()\n",
    "thresh_5=genes.copy()\n",
    "thresh_6=genes.copy()\n",
    "thresh_7=genes.copy()\n",
    "genes_dfs = [thresh_1, thresh_2, thresh_3, thresh_4, thresh_5, thresh_6, thresh_7]\n",
    "\n",
    "#add feature interactions above the boundary to each\n",
    "for combination in combinations(genes.columns,2):\n",
    "    first, second = combination[0], combination[1]\n",
    "    new_array = genes[first]*genes[second]\n",
    "    corr, p = pearsonr(new_array, y)\n",
    "    for bound, df in zip(boundaries, genes_dfs):\n",
    "        upper = bound\n",
    "        lower = -bound\n",
    "        if corr < lower or corr > upper:\n",
    "            df[combination] = new_array"
   ]
  },
  {
   "cell_type": "code",
   "execution_count": 18,
   "metadata": {},
   "outputs": [],
   "source": [
    "thresh_2.to_csv(\"threshold_0.225.csv\", sep=\",\")\n",
    "thresh_3.to_csv(\"threshold_0.25.csv\", sep=\",\")\n"
   ]
  },
  {
   "cell_type": "code",
   "execution_count": 19,
   "metadata": {},
   "outputs": [],
   "source": [
    "lower_thresh = pd.read_csv(\"threshold_0.225.csv\", sep=\",\", index_col=\"Unnamed: 0\")\n",
    "lower_best_C = 1.374\n",
    "higher_thresh = pd.read_csv(\"threshold_0.25.csv\", sep=\",\", index_col=\"Unnamed: 0\")\n",
    "higher_best_C = 9.237"
   ]
  },
  {
   "cell_type": "code",
   "execution_count": 20,
   "metadata": {},
   "outputs": [
    {
     "name": "stdout",
     "output_type": "stream",
     "text": [
      "Report at lower threshold of correlation coefficient = 0.225\n",
      "              precision    recall  f1-score   support\n",
      "\n",
      "           0       0.89      0.87      0.88       195\n",
      "           1       0.70      0.74      0.72        77\n",
      "\n",
      "    accuracy                           0.83       272\n",
      "   macro avg       0.79      0.81      0.80       272\n",
      "weighted avg       0.84      0.83      0.84       272\n",
      "\n",
      "Report at higher threshold of correlation coefficient = 0.25\n",
      "              precision    recall  f1-score   support\n",
      "\n",
      "           0       0.92      0.85      0.88       195\n",
      "           1       0.68      0.81      0.74        77\n",
      "\n",
      "    accuracy                           0.84       272\n",
      "   macro avg       0.80      0.83      0.81       272\n",
      "weighted avg       0.85      0.84      0.84       272\n",
      "\n"
     ]
    }
   ],
   "source": [
    "from sklearn.metrics import classification_report\n",
    "\n",
    "lower_X = StandardScaler().fit_transform(lower_thresh)\n",
    "lower_lasso = LogisticRegression(C=lower_best_C, penalty=\"l1\", solver=\"liblinear\")\n",
    "lower_model = lower_lasso.fit(lower_X, y)\n",
    "lower_predictions = cross_val_predict(lower_lasso, lower_X, y, cv=4)\n",
    "print(\"Report at lower threshold of correlation coefficient = 0.225\")\n",
    "print(classification_report(y, lower_predictions))\n",
    "\n",
    "higher_X = StandardScaler().fit_transform(higher_thresh)\n",
    "higher_lasso = LogisticRegression(C=higher_best_C, penalty=\"l1\", solver=\"liblinear\")\n",
    "higher_model = higher_lasso.fit(higher_X, y)\n",
    "higher_predictions = cross_val_predict(higher_lasso, higher_X, y, cv=4)\n",
    "print(\"Report at higher threshold of correlation coefficient = 0.25\")\n",
    "print(classification_report(y, higher_predictions))"
   ]
  },
  {
   "cell_type": "code",
   "execution_count": 21,
   "metadata": {},
   "outputs": [
    {
     "name": "stdout",
     "output_type": "stream",
     "text": [
      "baseline accuracy: 0.717\n",
      "SVM accuracy: 0.7352941176470589\n",
      "best params: {'C': 3.727593720314938, 'degree': 3, 'gamma': 0.00031622776601683794, 'kernel': 'rbf'}\n",
      "SVM accuracy with added feature interactions: 0.8419117647058824\n",
      "best params with feature interactions: {'C': 26.826957952797247, 'degree': 3, 'gamma': 3.1622776601683795e-05, 'kernel': 'rbf'}\n"
     ]
    }
   ],
   "source": [
    "from sklearn import svm\n",
    "params = {\n",
    "    \"C\": np.logspace(-2,2,15),\n",
    "    \"kernel\": [\"linear\", \"poly\", \"rbf\"],\n",
    "    \"gamma\": np.logspace(-5,2,15),\n",
    "    \"degree\": [3]\n",
    "}\n",
    "#using just gene features\n",
    "clf = svm.SVC(probability=True)\n",
    "gridsearch = GridSearchCV(clf, params, n_jobs=-1, cv=4)\n",
    "gridsearch.fit(X, y)\n",
    "pickle.dump(gridsearch.best_estimator_, open(\"gene_models/SVM.pkl\", 'wb'))\n",
    "\n",
    "#using genes and feature interactions\n",
    "clf = svm.SVC(probability=True)\n",
    "gridsearch_int = GridSearchCV(clf, params, n_jobs=-1, cv=4)\n",
    "gridsearch_int.fit(higher_X, y)\n",
    "pickle.dump(gridsearch_int.best_estimator_, open(\"gene_models/SVM_int.pkl\", 'wb'))\n",
    "\n",
    "print(\"baseline accuracy: \" + str(0.717))\n",
    "print(\"SVM accuracy: \" + str(gridsearch.best_score_))\n",
    "print(\"best params: \" + str(gridsearch.best_params_))\n",
    "print(\"SVM accuracy with added feature interactions: \" + str(gridsearch_int.best_score_))\n",
    "print(\"best params with feature interactions: \" + str(gridsearch_int.best_params_))"
   ]
  },
  {
   "cell_type": "markdown",
   "metadata": {},
   "source": [
    "# KNN\n"
   ]
  },
  {
   "cell_type": "code",
   "execution_count": 22,
   "metadata": {},
   "outputs": [
    {
     "name": "stdout",
     "output_type": "stream",
     "text": [
      "baseline accuracy: 0.717\n",
      "KNN accuracy: 0.724264705882353\n",
      "best params: {'n_neighbors': 35, 'weights': 'uniform'}\n"
     ]
    }
   ],
   "source": [
    "params = {\n",
    "    \"n_neighbors\" : [1,5,10,15,20,25,30,35,40],\n",
    "    \"weights\" : [\"uniform\" , \"distance\"]\n",
    "}\n",
    "knn = KNeighborsClassifier()\n",
    "gridsearch = GridSearchCV(knn, params, n_jobs=-1, cv=4)\n",
    "gridsearch.fit(X, y)\n",
    "pickle.dump(gridsearch.best_estimator_, open(\"gene_models/KNN.pkl\", 'wb'))\n",
    "\n",
    "print(\"baseline accuracy: \" + str(0.717))\n",
    "print(\"KNN accuracy: \" + str(gridsearch.best_score_))\n",
    "print(\"best params: \" + str(gridsearch.best_params_))"
   ]
  },
  {
   "cell_type": "markdown",
   "metadata": {},
   "source": [
    "# Using clinical variables and gene expression"
   ]
  },
  {
   "cell_type": "code",
   "execution_count": 24,
   "metadata": {},
   "outputs": [],
   "source": [
    "combined = pd.concat((predictive_df, higher_thresh), axis=1)\n",
    "X = StandardScaler().fit_transform(combined)\n",
    "y = subset[\"eventdeath\"]"
   ]
  },
  {
   "cell_type": "code",
   "execution_count": 25,
   "metadata": {},
   "outputs": [
    {
     "name": "stdout",
     "output_type": "stream",
     "text": [
      "baseline accuracy: 0.717\n",
      "SVM accuracy: 0.8455882352941176\n",
      "best params: {'C': 100.0, 'degree': 3, 'gamma': 1e-05, 'kernel': 'rbf'}\n"
     ]
    }
   ],
   "source": [
    "from sklearn import svm\n",
    "params = {\n",
    "    \"C\": np.logspace(-2,2,15),\n",
    "    \"kernel\": [\"linear\", \"poly\", \"rbf\"],\n",
    "    \"gamma\": np.logspace(-5,2,15),\n",
    "    \"degree\": [3]\n",
    "}\n",
    "clf = svm.SVC(probability=True)\n",
    "gridsearch = GridSearchCV(clf, params, n_jobs=-1, cv=4)\n",
    "gridsearch.fit(X, y)\n",
    "pickle.dump(gridsearch.best_estimator_, open(\"combined_models/SVM.pkl\", 'wb'))\n",
    "\n",
    "print(\"baseline accuracy: \" + str(0.717))\n",
    "print(\"SVM accuracy: \" + str(gridsearch.best_score_))\n",
    "print(\"best params: \" + str(gridsearch.best_params_))"
   ]
  },
  {
   "cell_type": "code",
   "execution_count": null,
   "metadata": {},
   "outputs": [],
   "source": []
  },
  {
   "cell_type": "code",
   "execution_count": null,
   "metadata": {},
   "outputs": [],
   "source": []
  }
 ],
 "metadata": {
  "kernelspec": {
   "display_name": "Python 3",
   "language": "python",
   "name": "python3"
  },
  "language_info": {
   "codemirror_mode": {
    "name": "ipython",
    "version": 3
   },
   "file_extension": ".py",
   "mimetype": "text/x-python",
   "name": "python",
   "nbconvert_exporter": "python",
   "pygments_lexer": "ipython3",
   "version": "3.6.8"
  }
 },
 "nbformat": 4,
 "nbformat_minor": 2
}
